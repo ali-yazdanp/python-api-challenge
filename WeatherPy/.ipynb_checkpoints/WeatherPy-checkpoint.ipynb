{
 "cells": [
  {
   "cell_type": "markdown",
   "metadata": {},
   "source": [
    "# WeatherPy\n",
    "\n",
    "---\n",
    "\n",
    "## Starter Code to Generate Random Geographic Coordinates and a List of Cities"
   ]
  },
  {
   "cell_type": "code",
   "execution_count": 25,
   "metadata": {
    "scrolled": true
   },
   "outputs": [],
   "source": [
    "# Dependencies and Setup\n",
    "import json\n",
    "import matplotlib.pyplot as plt\n",
    "import pandas as pd\n",
    "import numpy as np\n",
    "import requests\n",
    "import time\n",
    "import datetime\n",
    "import traceback\n",
    "import scipy.stats as st\n",
    "from scipy.stats import linregress\n",
    "from scipy.stats import pearsonr\n",
    "\n",
    "# Impor the OpenWeatherMap API key\n",
    "from api_keys import weather_api_key\n",
    "\n",
    "\n",
    "# Import citipy to determine the cities based on latitude and longitude\n",
    "from citipy import citipy"
   ]
  },
  {
   "cell_type": "markdown",
   "metadata": {},
   "source": [
    "### Generate the Cities List by Using the `citipy` Library"
   ]
  },
  {
   "cell_type": "code",
   "execution_count": 2,
   "metadata": {},
   "outputs": [
    {
     "name": "stdout",
     "output_type": "stream",
     "text": [
      "Number of cities in the list: 621\n"
     ]
    }
   ],
   "source": [
    "# Empty list for holding the latitude and longitude combinations\n",
    "lat_lngs = []\n",
    "\n",
    "# Empty list for holding the cities names\n",
    "cities = []\n",
    "\n",
    "# Range of latitudes and longitudes\n",
    "lat_range = (-90, 90)\n",
    "lng_range = (-180, 180)\n",
    "\n",
    "# Create a set of random lat and lng combinations\n",
    "lats = np.random.uniform(lat_range[0], lat_range[1], size=1500)\n",
    "lngs = np.random.uniform(lng_range[0], lng_range[1], size=1500)\n",
    "lat_lngs = zip(lats, lngs)\n",
    "\n",
    "# Identify nearest city for each lat, lng combination\n",
    "for lat_lng in lat_lngs:\n",
    "    city = citipy.nearest_city(lat_lng[0], lat_lng[1]).city_name\n",
    "    \n",
    "    # If the city is unique, then add it to a our cities list\n",
    "    if city not in cities:\n",
    "        cities.append(city)\n",
    "\n",
    "# Print the city count to confirm sufficient count\n",
    "print(f\"Number of cities in the list: {len(cities)}\")"
   ]
  },
  {
   "cell_type": "markdown",
   "metadata": {},
   "source": [
    "---"
   ]
  },
  {
   "cell_type": "markdown",
   "metadata": {},
   "source": [
    "## Requirement 1: Create Plots to Showcase the Relationship Between Weather Variables and Latitude\n",
    "\n",
    "### Use the OpenWeatherMap API to retrieve weather data from the cities list generated in the started code"
   ]
  },
  {
   "cell_type": "code",
   "execution_count": 4,
   "metadata": {},
   "outputs": [
    {
     "name": "stdout",
     "output_type": "stream",
     "text": [
      "Beginning Data Retrieval     \n",
      "-----------------------------\n",
      "Processing Record 1 of Set 1 | port alfred\n",
      "Processing Record 2 of Set 1 | chagda\n",
      "City not found. Skipping...\n",
      "Processing Record 3 of Set 1 | khash\n",
      "Processing Record 4 of Set 1 | tuktoyaktuk\n",
      "Processing Record 5 of Set 1 | honningsvag\n",
      "Processing Record 6 of Set 1 | el alto\n",
      "Processing Record 7 of Set 1 | mar del plata\n",
      "Processing Record 8 of Set 1 | asfi\n",
      "Processing Record 9 of Set 1 | acapulco\n",
      "Processing Record 10 of Set 1 | skalistyy\n",
      "City not found. Skipping...\n",
      "Processing Record 11 of Set 1 | nizhneyansk\n",
      "City not found. Skipping...\n",
      "Processing Record 12 of Set 1 | hermanus\n",
      "Processing Record 13 of Set 1 | albany\n",
      "Processing Record 14 of Set 1 | makurdi\n",
      "Processing Record 15 of Set 1 | mahebourg\n",
      "Processing Record 16 of Set 1 | faanui\n",
      "Processing Record 17 of Set 1 | lebu\n",
      "Processing Record 18 of Set 1 | aklavik\n",
      "Processing Record 19 of Set 1 | rikitea\n",
      "Processing Record 20 of Set 1 | constitucion\n",
      "Processing Record 21 of Set 1 | amderma\n",
      "City not found. Skipping...\n",
      "Processing Record 22 of Set 1 | gidole\n",
      "Processing Record 23 of Set 1 | hobart\n",
      "Processing Record 24 of Set 1 | hithadhoo\n",
      "Processing Record 25 of Set 1 | bluff\n",
      "Processing Record 26 of Set 1 | upernavik\n",
      "Processing Record 27 of Set 1 | vila do maio\n",
      "Processing Record 28 of Set 1 | faya\n",
      "Processing Record 29 of Set 1 | najran\n",
      "Processing Record 30 of Set 1 | labuhan\n",
      "Processing Record 31 of Set 1 | waldshut-tiengen\n",
      "Processing Record 32 of Set 1 | dunedin\n",
      "Processing Record 33 of Set 1 | sao gabriel da cachoeira\n",
      "Processing Record 34 of Set 1 | saint-pierre\n",
      "Processing Record 35 of Set 1 | djibo\n",
      "Processing Record 36 of Set 1 | horasan\n",
      "Processing Record 37 of Set 1 | araouane\n",
      "Processing Record 38 of Set 1 | ribeira grande\n",
      "Processing Record 39 of Set 1 | gombong\n",
      "Processing Record 40 of Set 1 | ushuaia\n",
      "Processing Record 41 of Set 1 | margate\n",
      "Processing Record 42 of Set 1 | barrow\n",
      "Processing Record 43 of Set 1 | ponta do sol\n",
      "Processing Record 44 of Set 1 | longyearbyen\n",
      "Processing Record 45 of Set 1 | jiuquan\n",
      "Processing Record 46 of Set 1 | phulabani\n",
      "Processing Record 47 of Set 1 | parabel\n",
      "Processing Record 48 of Set 1 | norman wells\n",
      "Processing Record 49 of Set 1 | gravdal\n",
      "Processing Record 50 of Set 1 | hay river\n",
      "Processing Record 0 of Set 2 | busselton\n",
      "Processing Record 1 of Set 2 | arraial do cabo\n",
      "Processing Record 2 of Set 2 | port elizabeth\n",
      "Processing Record 3 of Set 2 | mataura\n",
      "Processing Record 4 of Set 2 | srednekolymsk\n",
      "Processing Record 5 of Set 2 | yellowknife\n",
      "Processing Record 6 of Set 2 | vestmanna\n",
      "Processing Record 7 of Set 2 | xai-xai\n",
      "Processing Record 8 of Set 2 | new norfolk\n",
      "Processing Record 9 of Set 2 | richards bay\n",
      "Processing Record 10 of Set 2 | atuona\n",
      "Processing Record 11 of Set 2 | buckeye\n",
      "Processing Record 12 of Set 2 | lar\n",
      "Processing Record 13 of Set 2 | hamilton\n",
      "Processing Record 14 of Set 2 | airai\n",
      "Processing Record 15 of Set 2 | oranjemund\n",
      "Processing Record 16 of Set 2 | lagoa\n",
      "Processing Record 17 of Set 2 | nikolskoye\n",
      "Processing Record 18 of Set 2 | iqaluit\n",
      "Processing Record 19 of Set 2 | komsomolskiy\n",
      "Processing Record 20 of Set 2 | namibe\n",
      "Processing Record 21 of Set 2 | halifax\n",
      "Processing Record 22 of Set 2 | avarua\n",
      "Processing Record 23 of Set 2 | east london\n",
      "Processing Record 24 of Set 2 | havre\n",
      "Processing Record 25 of Set 2 | husavik\n",
      "Processing Record 26 of Set 2 | yalutorovsk\n",
      "Processing Record 27 of Set 2 | khatanga\n",
      "Processing Record 28 of Set 2 | hilo\n",
      "Processing Record 29 of Set 2 | bad ems\n",
      "Processing Record 30 of Set 2 | lobau\n",
      "Processing Record 31 of Set 2 | kaitangata\n",
      "Processing Record 32 of Set 2 | rio gallegos\n",
      "Processing Record 33 of Set 2 | klaksvik\n",
      "Processing Record 34 of Set 2 | shangrao\n",
      "Processing Record 35 of Set 2 | ocos\n",
      "Processing Record 36 of Set 2 | pampas\n",
      "Processing Record 37 of Set 2 | brae\n",
      "Processing Record 38 of Set 2 | bengkulu\n",
      "Processing Record 39 of Set 2 | tual\n",
      "Processing Record 40 of Set 2 | port hedland\n",
      "Processing Record 41 of Set 2 | jamestown\n",
      "Processing Record 42 of Set 2 | coronel mariduena\n",
      "City not found. Skipping...\n",
      "Processing Record 43 of Set 2 | provideniya\n",
      "Processing Record 44 of Set 2 | barsovo\n",
      "Processing Record 45 of Set 2 | birkeland\n",
      "Processing Record 46 of Set 2 | jalu\n",
      "Processing Record 47 of Set 2 | punta arenas\n",
      "Processing Record 48 of Set 2 | dwarka\n",
      "Processing Record 49 of Set 2 | vestmannaeyjar\n",
      "Processing Record 0 of Set 3 | naze\n",
      "Processing Record 1 of Set 3 | sataua\n",
      "City not found. Skipping...\n",
      "Processing Record 2 of Set 3 | puerto ayora\n",
      "Processing Record 3 of Set 3 | vaini\n",
      "Processing Record 4 of Set 3 | thinadhoo\n",
      "Processing Record 5 of Set 3 | butaritari\n",
      "Processing Record 6 of Set 3 | esperance\n",
      "Processing Record 7 of Set 3 | baykit\n",
      "Processing Record 8 of Set 3 | necochea\n",
      "Processing Record 9 of Set 3 | dikson\n",
      "Processing Record 10 of Set 3 | yenagoa\n",
      "Processing Record 11 of Set 3 | ilulissat\n",
      "Processing Record 12 of Set 3 | port lincoln\n",
      "Processing Record 13 of Set 3 | clyde river\n",
      "Processing Record 14 of Set 3 | kruisfontein\n",
      "Processing Record 15 of Set 3 | belyy yar\n",
      "Processing Record 16 of Set 3 | encruzilhada do sul\n",
      "Processing Record 17 of Set 3 | sosnovo-ozerskoye\n",
      "Processing Record 18 of Set 3 | qaqortoq\n",
      "Processing Record 19 of Set 3 | tiarei\n",
      "Processing Record 20 of Set 3 | darnah\n",
      "Processing Record 21 of Set 3 | vila franca do campo\n",
      "Processing Record 22 of Set 3 | shache\n",
      "Processing Record 23 of Set 3 | shingu\n",
      "Processing Record 24 of Set 3 | bethel\n",
      "Processing Record 25 of Set 3 | vao\n",
      "Processing Record 26 of Set 3 | cayenne\n",
      "Processing Record 27 of Set 3 | nome\n",
      "Processing Record 28 of Set 3 | jardim\n",
      "Processing Record 29 of Set 3 | kyabram\n",
      "Processing Record 30 of Set 3 | tuburan\n",
      "Processing Record 31 of Set 3 | ostrovnoy\n",
      "Processing Record 32 of Set 3 | taolanaro\n",
      "City not found. Skipping...\n",
      "Processing Record 33 of Set 3 | kapaa\n",
      "Processing Record 34 of Set 3 | cape town\n",
      "Processing Record 35 of Set 3 | kodiak\n",
      "Processing Record 36 of Set 3 | plouzane\n",
      "Processing Record 37 of Set 3 | hambantota\n",
      "Processing Record 38 of Set 3 | saldanha\n",
      "Processing Record 39 of Set 3 | nanortalik\n",
      "Processing Record 40 of Set 3 | comodoro rivadavia\n",
      "Processing Record 41 of Set 3 | luangwa\n",
      "Processing Record 42 of Set 3 | kavaratti\n",
      "Processing Record 43 of Set 3 | bowen\n",
      "Processing Record 44 of Set 3 | georgetown\n",
      "Processing Record 45 of Set 3 | portland\n",
      "Processing Record 46 of Set 3 | road town\n",
      "Processing Record 47 of Set 3 | maragogi\n",
      "Processing Record 48 of Set 3 | cervo\n",
      "Processing Record 49 of Set 3 | yorosso\n",
      "Processing Record 0 of Set 4 | zhangjiakou\n",
      "Processing Record 1 of Set 4 | balti\n",
      "Processing Record 2 of Set 4 | villa de reyes\n",
      "Processing Record 3 of Set 4 | carnarvon\n",
      "Processing Record 4 of Set 4 | rocha\n",
      "Processing Record 5 of Set 4 | yablonovo\n",
      "Processing Record 6 of Set 4 | mayskiy\n",
      "Processing Record 7 of Set 4 | shimoda\n",
      "Processing Record 8 of Set 4 | kavieng\n",
      "Processing Record 9 of Set 4 | tumannyy\n",
      "City not found. Skipping...\n",
      "Processing Record 10 of Set 4 | los llanos de aridane\n",
      "Processing Record 11 of Set 4 | dandong\n",
      "Processing Record 12 of Set 4 | leland\n",
      "Processing Record 13 of Set 4 | tura\n",
      "Processing Record 14 of Set 4 | maniitsoq\n",
      "Processing Record 15 of Set 4 | vaitupu\n",
      "City not found. Skipping...\n",
      "Processing Record 16 of Set 4 | sladkovo\n",
      "Processing Record 17 of Set 4 | arlit\n",
      "Processing Record 18 of Set 4 | codrington\n",
      "Processing Record 19 of Set 4 | ahuimanu\n",
      "Processing Record 20 of Set 4 | narsaq\n",
      "Processing Record 21 of Set 4 | horqueta\n",
      "Processing Record 22 of Set 4 | barentsburg\n",
      "City not found. Skipping...\n",
      "Processing Record 23 of Set 4 | saskylakh\n",
      "Processing Record 24 of Set 4 | saint-philippe\n",
      "Processing Record 25 of Set 4 | tadine\n",
      "Processing Record 26 of Set 4 | bandarbeyla\n",
      "Processing Record 27 of Set 4 | methoni\n",
      "Processing Record 28 of Set 4 | puerto escondido\n",
      "Processing Record 29 of Set 4 | mahajanga\n",
      "Processing Record 30 of Set 4 | atasu\n",
      "Processing Record 31 of Set 4 | guerrero negro\n",
      "Processing Record 32 of Set 4 | sorland\n",
      "Processing Record 33 of Set 4 | pemba\n",
      "Processing Record 34 of Set 4 | amahai\n",
      "Processing Record 35 of Set 4 | abu jubayhah\n",
      "City not found. Skipping...\n",
      "Processing Record 36 of Set 4 | dargaville\n",
      "Processing Record 37 of Set 4 | christchurch\n",
      "Processing Record 38 of Set 4 | nuuk\n",
      "Processing Record 39 of Set 4 | severnoye\n"
     ]
    },
    {
     "name": "stdout",
     "output_type": "stream",
     "text": [
      "Processing Record 40 of Set 4 | petropavlovsk-kamchatskiy\n",
      "Processing Record 41 of Set 4 | qaanaaq\n",
      "Processing Record 42 of Set 4 | saleaula\n",
      "City not found. Skipping...\n",
      "Processing Record 43 of Set 4 | bredasdorp\n",
      "Processing Record 44 of Set 4 | north massapequa\n",
      "Processing Record 45 of Set 4 | livingstone\n",
      "Processing Record 46 of Set 4 | morant bay\n",
      "Processing Record 47 of Set 4 | axim\n",
      "Processing Record 48 of Set 4 | manaure\n",
      "Processing Record 49 of Set 4 | muscat\n",
      "Processing Record 0 of Set 5 | marquette\n",
      "Processing Record 1 of Set 5 | cidreira\n",
      "Processing Record 2 of Set 5 | floro\n",
      "Processing Record 3 of Set 5 | buraydah\n",
      "Processing Record 4 of Set 5 | ayan\n",
      "Processing Record 5 of Set 5 | deep river\n",
      "Processing Record 6 of Set 5 | belaya gora\n",
      "Processing Record 7 of Set 5 | sur\n",
      "Processing Record 8 of Set 5 | denpasar\n",
      "Processing Record 9 of Set 5 | pevek\n",
      "Processing Record 10 of Set 5 | erzin\n",
      "Processing Record 11 of Set 5 | orjahovo\n",
      "City not found. Skipping...\n",
      "Processing Record 12 of Set 5 | hasaki\n",
      "Processing Record 13 of Set 5 | roald\n",
      "Processing Record 14 of Set 5 | illoqqortoormiut\n",
      "City not found. Skipping...\n",
      "Processing Record 15 of Set 5 | jahrom\n",
      "City not found. Skipping...\n",
      "Processing Record 16 of Set 5 | butembo\n",
      "Processing Record 17 of Set 5 | attawapiskat\n",
      "City not found. Skipping...\n",
      "Processing Record 18 of Set 5 | barceloneta\n",
      "Processing Record 19 of Set 5 | torbay\n",
      "Processing Record 20 of Set 5 | katherine\n",
      "Processing Record 21 of Set 5 | maarianhamina\n",
      "Processing Record 22 of Set 5 | berbera\n",
      "Processing Record 23 of Set 5 | biltine\n",
      "Processing Record 24 of Set 5 | yulara\n",
      "Processing Record 25 of Set 5 | haines junction\n",
      "Processing Record 26 of Set 5 | onega\n",
      "Processing Record 27 of Set 5 | juneau\n",
      "Processing Record 28 of Set 5 | solnechnyy\n",
      "Processing Record 29 of Set 5 | ancud\n",
      "Processing Record 30 of Set 5 | glendive\n",
      "Processing Record 31 of Set 5 | alofi\n",
      "Processing Record 32 of Set 5 | barawe\n",
      "City not found. Skipping...\n",
      "Processing Record 33 of Set 5 | touros\n",
      "Processing Record 34 of Set 5 | abu samrah\n",
      "Processing Record 35 of Set 5 | makakilo city\n",
      "Processing Record 36 of Set 5 | chuy\n",
      "Processing Record 37 of Set 5 | eppingen\n",
      "Processing Record 38 of Set 5 | ouadda\n",
      "Processing Record 39 of Set 5 | aquiraz\n",
      "Processing Record 40 of Set 5 | karratha\n",
      "Processing Record 41 of Set 5 | batagay-alyta\n",
      "Processing Record 42 of Set 5 | castro\n",
      "Processing Record 43 of Set 5 | yumen\n",
      "Processing Record 44 of Set 5 | lavrentiya\n",
      "Processing Record 45 of Set 5 | padang\n",
      "Processing Record 46 of Set 5 | eureka\n",
      "Processing Record 47 of Set 5 | gornouralskiy\n",
      "City not found. Skipping...\n",
      "Processing Record 48 of Set 5 | port macquarie\n",
      "Processing Record 49 of Set 5 | oistins\n",
      "Processing Record 0 of Set 6 | tsihombe\n",
      "City not found. Skipping...\n",
      "Processing Record 1 of Set 6 | ruston\n",
      "Processing Record 2 of Set 6 | egvekinot\n",
      "Processing Record 3 of Set 6 | pimenta bueno\n",
      "Processing Record 4 of Set 6 | bone\n",
      "Processing Record 5 of Set 6 | mrirt\n",
      "City not found. Skipping...\n",
      "Processing Record 6 of Set 6 | tarko-sale\n",
      "Processing Record 7 of Set 6 | tara\n",
      "Processing Record 8 of Set 6 | geraldton\n",
      "Processing Record 9 of Set 6 | tasiilaq\n",
      "Processing Record 10 of Set 6 | linjiang\n",
      "Processing Record 11 of Set 6 | thompson\n",
      "Processing Record 12 of Set 6 | grafton\n",
      "Processing Record 13 of Set 6 | high level\n",
      "Processing Record 14 of Set 6 | nuevo progreso\n",
      "Processing Record 15 of Set 6 | salinopolis\n",
      "Processing Record 16 of Set 6 | urumqi\n",
      "Processing Record 17 of Set 6 | rosetta\n",
      "Processing Record 18 of Set 6 | antofagasta\n",
      "Processing Record 19 of Set 6 | rivers\n",
      "Processing Record 20 of Set 6 | broken hill\n",
      "Processing Record 21 of Set 6 | teknaf\n",
      "Processing Record 22 of Set 6 | nishihara\n",
      "Processing Record 23 of Set 6 | praia\n",
      "Processing Record 24 of Set 6 | loa janan\n",
      "Processing Record 25 of Set 6 | samarai\n",
      "Processing Record 26 of Set 6 | mandalgovi\n",
      "Processing Record 27 of Set 6 | ahipara\n",
      "Processing Record 28 of Set 6 | evansville\n",
      "Processing Record 29 of Set 6 | westport\n",
      "Processing Record 30 of Set 6 | chapais\n",
      "Processing Record 31 of Set 6 | mao\n",
      "Processing Record 32 of Set 6 | bambous virieux\n",
      "Processing Record 33 of Set 6 | louisbourg\n",
      "City not found. Skipping...\n",
      "Processing Record 34 of Set 6 | camden\n",
      "Processing Record 35 of Set 6 | poum\n",
      "Processing Record 36 of Set 6 | kapoeta\n",
      "Processing Record 37 of Set 6 | sao filipe\n",
      "Processing Record 38 of Set 6 | birao\n",
      "Processing Record 39 of Set 6 | tubruq\n",
      "City not found. Skipping...\n",
      "Processing Record 40 of Set 6 | tairua\n",
      "Processing Record 41 of Set 6 | dzilam gonzalez\n",
      "Processing Record 42 of Set 6 | rungata\n",
      "City not found. Skipping...\n",
      "Processing Record 43 of Set 6 | ishigaki\n",
      "Processing Record 44 of Set 6 | talnakh\n",
      "Processing Record 45 of Set 6 | aksarka\n",
      "Processing Record 46 of Set 6 | oktyabrskiy\n",
      "Processing Record 47 of Set 6 | elizabeth city\n",
      "Processing Record 48 of Set 6 | morondava\n",
      "Processing Record 49 of Set 6 | severo-kurilsk\n",
      "Processing Record 0 of Set 7 | adrar\n",
      "Processing Record 1 of Set 7 | dakar\n",
      "Processing Record 2 of Set 7 | palmer\n",
      "Processing Record 3 of Set 7 | port hardy\n",
      "Processing Record 4 of Set 7 | tezu\n",
      "Processing Record 5 of Set 7 | huilong\n",
      "Processing Record 6 of Set 7 | muros\n",
      "Processing Record 7 of Set 7 | marsabit\n",
      "Processing Record 8 of Set 7 | canyon\n",
      "Processing Record 9 of Set 7 | skibbereen\n",
      "Processing Record 10 of Set 7 | marawi\n",
      "Processing Record 11 of Set 7 | kuytun\n",
      "Processing Record 12 of Set 7 | itabira\n",
      "Processing Record 13 of Set 7 | harper\n",
      "Processing Record 14 of Set 7 | katsuura\n",
      "Processing Record 15 of Set 7 | meadow lake\n",
      "Processing Record 16 of Set 7 | north chicago\n",
      "Processing Record 17 of Set 7 | slave lake\n",
      "Processing Record 18 of Set 7 | sennoy\n",
      "Processing Record 19 of Set 7 | khorinsk\n",
      "Processing Record 20 of Set 7 | saint-augustin\n",
      "Processing Record 21 of Set 7 | sambava\n",
      "Processing Record 22 of Set 7 | evensk\n",
      "Processing Record 23 of Set 7 | bhimunipatnam\n",
      "Processing Record 24 of Set 7 | olinda\n",
      "Processing Record 25 of Set 7 | bhatkal\n",
      "Processing Record 26 of Set 7 | mersing\n",
      "Processing Record 27 of Set 7 | byron bay\n",
      "Processing Record 28 of Set 7 | opuwo\n",
      "Processing Record 29 of Set 7 | stornoway\n",
      "Processing Record 30 of Set 7 | lazaro cardenas\n",
      "Processing Record 31 of Set 7 | kondinskoye\n",
      "Processing Record 32 of Set 7 | alvaraes\n",
      "Processing Record 33 of Set 7 | kayalpattinam\n",
      "Processing Record 34 of Set 7 | flinders\n",
      "Processing Record 35 of Set 7 | bolekhiv\n",
      "Processing Record 36 of Set 7 | nyurba\n",
      "Processing Record 37 of Set 7 | lompoc\n",
      "Processing Record 38 of Set 7 | oloron-sainte-marie\n",
      "Processing Record 39 of Set 7 | marcona\n",
      "City not found. Skipping...\n",
      "Processing Record 40 of Set 7 | grand river south east\n",
      "City not found. Skipping...\n",
      "Processing Record 41 of Set 7 | santa maria\n",
      "Processing Record 42 of Set 7 | uzumlu\n",
      "City not found. Skipping...\n",
      "Processing Record 43 of Set 7 | cherskiy\n",
      "Processing Record 44 of Set 7 | belushya guba\n",
      "City not found. Skipping...\n",
      "Processing Record 45 of Set 7 | anadyr\n",
      "Processing Record 46 of Set 7 | sentyabrskiy\n",
      "City not found. Skipping...\n",
      "Processing Record 47 of Set 7 | lempaala\n",
      "Processing Record 48 of Set 7 | betioky\n",
      "Processing Record 49 of Set 7 | caxito\n",
      "Processing Record 0 of Set 8 | orcopampa\n",
      "Processing Record 1 of Set 8 | matay\n",
      "Processing Record 2 of Set 8 | orlik\n",
      "Processing Record 3 of Set 8 | chokurdakh\n",
      "Processing Record 4 of Set 8 | copiapo\n",
      "Processing Record 5 of Set 8 | nagutskoye\n",
      "Processing Record 6 of Set 8 | northam\n",
      "Processing Record 7 of Set 8 | kahului\n",
      "Processing Record 8 of Set 8 | kargil\n",
      "Processing Record 9 of Set 8 | imeni zhelyabova\n",
      "Processing Record 10 of Set 8 | pouebo\n",
      "Processing Record 11 of Set 8 | caravelas\n",
      "Processing Record 12 of Set 8 | whitley bay\n",
      "Processing Record 13 of Set 8 | nizhneudinsk\n",
      "Processing Record 14 of Set 8 | berlin\n",
      "Processing Record 15 of Set 8 | katha\n",
      "City not found. Skipping...\n",
      "Processing Record 16 of Set 8 | lasa\n",
      "Processing Record 17 of Set 8 | labuan\n",
      "Processing Record 18 of Set 8 | uppsala\n",
      "Processing Record 19 of Set 8 | corinto\n",
      "Processing Record 20 of Set 8 | bol\n",
      "Processing Record 21 of Set 8 | dospat\n",
      "Processing Record 22 of Set 8 | pacaembu\n",
      "Processing Record 23 of Set 8 | saint-joseph\n",
      "Processing Record 24 of Set 8 | noumea\n",
      "Processing Record 25 of Set 8 | forestville\n",
      "Processing Record 26 of Set 8 | la gaulette\n"
     ]
    },
    {
     "name": "stdout",
     "output_type": "stream",
     "text": [
      "City not found. Skipping...\n",
      "Processing Record 27 of Set 8 | umm lajj\n",
      "Processing Record 28 of Set 8 | kikuchi\n",
      "Processing Record 29 of Set 8 | san luis\n",
      "Processing Record 30 of Set 8 | pucara\n",
      "Processing Record 31 of Set 8 | prince rupert\n",
      "Processing Record 32 of Set 8 | biloela\n",
      "Processing Record 33 of Set 8 | awbari\n",
      "Processing Record 34 of Set 8 | mys shmidta\n",
      "City not found. Skipping...\n",
      "Processing Record 35 of Set 8 | havoysund\n",
      "Processing Record 36 of Set 8 | dire dawa\n",
      "Processing Record 37 of Set 8 | beringovskiy\n",
      "Processing Record 38 of Set 8 | yar-sale\n",
      "Processing Record 39 of Set 8 | leh\n",
      "Processing Record 40 of Set 8 | coahuayana\n",
      "Processing Record 41 of Set 8 | vicosa\n",
      "Processing Record 42 of Set 8 | ambatolampy\n",
      "Processing Record 43 of Set 8 | zyryanka\n",
      "Processing Record 44 of Set 8 | hirara\n",
      "Processing Record 45 of Set 8 | tautira\n",
      "Processing Record 46 of Set 8 | magdagachi\n",
      "Processing Record 47 of Set 8 | haibowan\n",
      "City not found. Skipping...\n",
      "Processing Record 48 of Set 8 | kassala\n",
      "Processing Record 49 of Set 8 | henties bay\n",
      "Processing Record 0 of Set 9 | mosquera\n",
      "Processing Record 1 of Set 9 | sherlovaya gora\n",
      "Processing Record 2 of Set 9 | cabo san lucas\n",
      "Processing Record 3 of Set 9 | grand gaube\n",
      "Processing Record 4 of Set 9 | luderitz\n",
      "Processing Record 5 of Set 9 | mehamn\n",
      "Processing Record 6 of Set 9 | broome\n",
      "Processing Record 7 of Set 9 | sibolga\n",
      "Processing Record 8 of Set 9 | babanusah\n",
      "City not found. Skipping...\n",
      "Processing Record 9 of Set 9 | san jeronimo\n",
      "Processing Record 10 of Set 9 | vanimo\n",
      "Processing Record 11 of Set 9 | hovd\n",
      "Processing Record 12 of Set 9 | coihaique\n",
      "Processing Record 13 of Set 9 | menongue\n",
      "Processing Record 14 of Set 9 | the valley\n",
      "Processing Record 15 of Set 9 | nampula\n",
      "Processing Record 16 of Set 9 | takayama\n",
      "Processing Record 17 of Set 9 | farah\n",
      "Processing Record 18 of Set 9 | tuatapere\n",
      "Processing Record 19 of Set 9 | saint-francois\n",
      "Processing Record 20 of Set 9 | zhicheng\n",
      "Processing Record 21 of Set 9 | manjacaze\n",
      "Processing Record 22 of Set 9 | rawannawi\n",
      "City not found. Skipping...\n",
      "Processing Record 23 of Set 9 | khandbari\n",
      "Processing Record 24 of Set 9 | nguruka\n",
      "Processing Record 25 of Set 9 | huancavelica\n",
      "Processing Record 26 of Set 9 | sistranda\n",
      "Processing Record 27 of Set 9 | nabire\n",
      "Processing Record 28 of Set 9 | sanming\n",
      "Processing Record 29 of Set 9 | hearst\n",
      "Processing Record 30 of Set 9 | pascagoula\n",
      "Processing Record 31 of Set 9 | oum hadjer\n",
      "Processing Record 32 of Set 9 | seymchan\n",
      "Processing Record 33 of Set 9 | zabaykalsk\n",
      "Processing Record 34 of Set 9 | san patricio\n",
      "Processing Record 35 of Set 9 | mbouda\n",
      "Processing Record 36 of Set 9 | dingle\n",
      "Processing Record 37 of Set 9 | ushtobe\n",
      "Processing Record 38 of Set 9 | leningradskiy\n",
      "Processing Record 39 of Set 9 | kettering\n",
      "Processing Record 40 of Set 9 | novouzensk\n",
      "Processing Record 41 of Set 9 | boende\n",
      "Processing Record 42 of Set 9 | lisakovsk\n",
      "Processing Record 43 of Set 9 | riyaq\n",
      "City not found. Skipping...\n",
      "Processing Record 44 of Set 9 | salekhard\n",
      "Processing Record 45 of Set 9 | souillac\n",
      "Processing Record 46 of Set 9 | lukovetskiy\n",
      "Processing Record 47 of Set 9 | victor harbor\n",
      "Processing Record 48 of Set 9 | novochernorechenskiy\n",
      "Processing Record 49 of Set 9 | anito\n",
      "Processing Record 0 of Set 10 | izhma\n",
      "Processing Record 1 of Set 10 | ayolas\n",
      "Processing Record 2 of Set 10 | anchorage\n",
      "Processing Record 3 of Set 10 | nocupetaro\n",
      "Processing Record 4 of Set 10 | nouadhibou\n",
      "Processing Record 5 of Set 10 | esmeraldas\n",
      "Processing Record 6 of Set 10 | hendijan\n",
      "City not found. Skipping...\n",
      "Processing Record 7 of Set 10 | swellendam\n",
      "Processing Record 8 of Set 10 | tiksi\n",
      "Processing Record 9 of Set 10 | tunduma\n",
      "Processing Record 10 of Set 10 | mackay\n",
      "Processing Record 11 of Set 10 | bembereke\n",
      "Processing Record 12 of Set 10 | gornopravdinsk\n",
      "Processing Record 13 of Set 10 | pisco\n",
      "Processing Record 14 of Set 10 | moree\n",
      "Processing Record 15 of Set 10 | kismayo\n",
      "Processing Record 16 of Set 10 | asau\n",
      "Processing Record 17 of Set 10 | santo andre\n",
      "Processing Record 18 of Set 10 | doka\n",
      "Processing Record 19 of Set 10 | banda aceh\n",
      "Processing Record 20 of Set 10 | felanitx\n",
      "Processing Record 21 of Set 10 | salalah\n",
      "Processing Record 22 of Set 10 | almaznyy\n",
      "Processing Record 23 of Set 10 | manta\n",
      "Processing Record 24 of Set 10 | paciran\n",
      "Processing Record 25 of Set 10 | gladstone\n",
      "Processing Record 26 of Set 10 | port hawkesbury\n",
      "Processing Record 27 of Set 10 | gaoual\n",
      "Processing Record 28 of Set 10 | lata\n",
      "Processing Record 29 of Set 10 | taltal\n",
      "Processing Record 30 of Set 10 | hami\n",
      "Processing Record 31 of Set 10 | dali\n",
      "Processing Record 32 of Set 10 | ilheus\n",
      "Processing Record 33 of Set 10 | strezhevoy\n",
      "Processing Record 34 of Set 10 | calama\n",
      "Processing Record 35 of Set 10 | verkhnevilyuysk\n",
      "Processing Record 36 of Set 10 | shibarghan\n",
      "City not found. Skipping...\n",
      "Processing Record 37 of Set 10 | victoria\n",
      "Processing Record 38 of Set 10 | orotukan\n",
      "Processing Record 39 of Set 10 | tabuk\n",
      "Processing Record 40 of Set 10 | heihe\n",
      "Processing Record 41 of Set 10 | januaria\n",
      "Processing Record 42 of Set 10 | boa vista\n",
      "Processing Record 43 of Set 10 | nunchia\n",
      "Processing Record 44 of Set 10 | villarrica\n",
      "Processing Record 45 of Set 10 | cochrane\n",
      "Processing Record 46 of Set 10 | quatre cocos\n",
      "Processing Record 47 of Set 10 | sulangan\n",
      "Processing Record 48 of Set 10 | kibungo\n",
      "Processing Record 49 of Set 10 | hofn\n",
      "Processing Record 0 of Set 11 | chernyshevsk\n",
      "Processing Record 1 of Set 11 | pombas\n",
      "Processing Record 2 of Set 11 | takoradi\n",
      "Processing Record 3 of Set 11 | vaitape\n",
      "Processing Record 4 of Set 11 | fairlie\n",
      "Processing Record 5 of Set 11 | trindade\n",
      "Processing Record 6 of Set 11 | bambanglipuro\n",
      "Processing Record 7 of Set 11 | kenai\n",
      "Processing Record 8 of Set 11 | ciudad bolivar\n",
      "Processing Record 9 of Set 11 | codajas\n",
      "Processing Record 10 of Set 11 | ilhabela\n",
      "Processing Record 11 of Set 11 | gat\n",
      "Processing Record 12 of Set 11 | havre-saint-pierre\n",
      "Processing Record 13 of Set 11 | kununurra\n",
      "Processing Record 14 of Set 11 | waipawa\n",
      "Processing Record 15 of Set 11 | tabory\n",
      "Processing Record 16 of Set 11 | pandharpur\n",
      "Processing Record 17 of Set 11 | sao geraldo do araguaia\n",
      "Processing Record 18 of Set 11 | mizdah\n",
      "Processing Record 19 of Set 11 | namatanai\n",
      "Processing Record 20 of Set 11 | odesskoye\n",
      "Processing Record 21 of Set 11 | forest\n",
      "Processing Record 22 of Set 11 | omboue\n",
      "Processing Record 23 of Set 11 | ambunti\n",
      "Processing Record 24 of Set 11 | sorong\n",
      "Processing Record 25 of Set 11 | grindavik\n",
      "Processing Record 26 of Set 11 | champasak\n",
      "Processing Record 27 of Set 11 | bathsheba\n",
      "Processing Record 28 of Set 11 | pano polemidia\n",
      "Processing Record 29 of Set 11 | ust-kamchatsk\n",
      "City not found. Skipping...\n",
      "Processing Record 30 of Set 11 | roma\n",
      "Processing Record 31 of Set 11 | fairbanks\n",
      "Processing Record 32 of Set 11 | north platte\n",
      "Processing Record 33 of Set 11 | kargasok\n",
      "Processing Record 34 of Set 11 | tabiauea\n",
      "City not found. Skipping...\n",
      "Processing Record 35 of Set 11 | san andres\n",
      "Processing Record 36 of Set 11 | belle fourche\n",
      "Processing Record 37 of Set 11 | alexandria\n",
      "Processing Record 38 of Set 11 | aksu\n",
      "Processing Record 39 of Set 11 | cabra\n",
      "Processing Record 40 of Set 11 | sao felix do xingu\n",
      "Processing Record 41 of Set 11 | inongo\n",
      "Processing Record 42 of Set 11 | meyungs\n",
      "City not found. Skipping...\n",
      "Processing Record 43 of Set 11 | palmira\n",
      "Processing Record 44 of Set 11 | te anau\n",
      "Processing Record 45 of Set 11 | voh\n",
      "Processing Record 46 of Set 11 | alta floresta\n",
      "Processing Record 47 of Set 11 | tabas\n",
      "Processing Record 48 of Set 11 | siyabuswa\n",
      "Processing Record 49 of Set 11 | lolua\n",
      "City not found. Skipping...\n",
      "Processing Record 0 of Set 12 | half moon bay\n",
      "Processing Record 1 of Set 12 | taoudenni\n",
      "Processing Record 2 of Set 12 | porto nacional\n",
      "Processing Record 3 of Set 12 | mantua\n",
      "Processing Record 4 of Set 12 | sohbatpur\n",
      "Processing Record 5 of Set 12 | aswan\n",
      "Processing Record 6 of Set 12 | yugorsk\n",
      "Processing Record 7 of Set 12 | mawlaik\n",
      "Processing Record 8 of Set 12 | darhan\n",
      "Processing Record 9 of Set 12 | asyut\n",
      "Processing Record 10 of Set 12 | yamada\n",
      "Processing Record 11 of Set 12 | colac\n",
      "Processing Record 12 of Set 12 | kirovskiy\n",
      "Processing Record 13 of Set 12 | cockburn town\n",
      "Processing Record 14 of Set 12 | kropotkin\n"
     ]
    },
    {
     "name": "stdout",
     "output_type": "stream",
     "text": [
      "Processing Record 15 of Set 12 | shieli\n",
      "Processing Record 16 of Set 12 | karonga\n",
      "Processing Record 17 of Set 12 | sandpoint\n",
      "Processing Record 18 of Set 12 | buala\n",
      "Processing Record 19 of Set 12 | arawa\n",
      "Processing Record 20 of Set 12 | saint george\n",
      "Processing Record 21 of Set 12 | galiwinku\n",
      "City not found. Skipping...\n",
      "Processing Record 22 of Set 12 | ganzhou\n",
      "Processing Record 23 of Set 12 | ambodifototra\n",
      "City not found. Skipping...\n",
      "Processing Record 24 of Set 12 | vangaindrano\n",
      "Processing Record 25 of Set 12 | santa vitoria do palmar\n",
      "Processing Record 26 of Set 12 | satana\n",
      "Processing Record 27 of Set 12 | sao miguel do tapuio\n",
      "Processing Record 28 of Set 12 | sisimiut\n",
      "Processing Record 29 of Set 12 | adeje\n",
      "Processing Record 30 of Set 12 | kuching\n",
      "Processing Record 31 of Set 12 | mitzic\n",
      "Processing Record 32 of Set 12 | puerto cabezas\n",
      "Processing Record 33 of Set 12 | zhigansk\n",
      "Processing Record 34 of Set 12 | donskoye\n",
      "Processing Record 35 of Set 12 | rosario do sul\n",
      "Processing Record 36 of Set 12 | talakan\n",
      "Processing Record 37 of Set 12 | contai\n",
      "Processing Record 38 of Set 12 | heyang\n",
      "Processing Record 39 of Set 12 | bang saphan\n",
      "Processing Record 40 of Set 12 | luganville\n",
      "Processing Record 41 of Set 12 | sola\n",
      "Processing Record 42 of Set 12 | koumac\n",
      "Processing Record 43 of Set 12 | cape canaveral\n",
      "Processing Record 44 of Set 12 | itupiranga\n",
      "Processing Record 45 of Set 12 | kovdor\n",
      "Processing Record 46 of Set 12 | hargeysa\n",
      "Processing Record 47 of Set 12 | dekar\n",
      "Processing Record 48 of Set 12 | vytegra\n",
      "Processing Record 49 of Set 12 | kushiro\n",
      "Processing Record 0 of Set 13 | san quintin\n",
      "Processing Record 1 of Set 13 | addi ugri\n",
      "City not found. Skipping...\n",
      "Processing Record 2 of Set 13 | eyl\n",
      "Processing Record 3 of Set 13 | sinnamary\n",
      "Processing Record 4 of Set 13 | raca\n",
      "Processing Record 5 of Set 13 | canarana\n",
      "Processing Record 6 of Set 13 | fortuna\n",
      "Processing Record 7 of Set 13 | hervey bay\n",
      "Processing Record 8 of Set 13 | smithers\n",
      "Processing Record 9 of Set 13 | kuche\n",
      "City not found. Skipping...\n",
      "Processing Record 10 of Set 13 | tazovskiy\n",
      "Processing Record 11 of Set 13 | ostroleka\n",
      "Processing Record 12 of Set 13 | isla mujeres\n",
      "Processing Record 13 of Set 13 | kunya\n",
      "Processing Record 14 of Set 13 | canillo\n",
      "Processing Record 15 of Set 13 | jinchang\n",
      "Processing Record 16 of Set 13 | karaul\n",
      "City not found. Skipping...\n",
      "Processing Record 17 of Set 13 | bonthe\n",
      "Processing Record 18 of Set 13 | filadelfia\n",
      "Processing Record 19 of Set 13 | georgiyevka\n",
      "Processing Record 20 of Set 13 | amga\n",
      "-----------------------------\n",
      "Data Retrieval Complete      \n",
      "-----------------------------\n"
     ]
    }
   ],
   "source": [
    "# Set the API base URL\n",
    "url = \"https://api.openweathermap.org/data/2.5/weather?units=Metric\"\n",
    "\n",
    "# Define an empty list to fetch the weather data for each city\n",
    "city_data = []\n",
    "lat = []\n",
    "long = []\n",
    "temp = []\n",
    "max_temps = []\n",
    "humid = []\n",
    "cloud = []\n",
    "windspd = []\n",
    "country = []\n",
    "date = []\n",
    "\n",
    "# Print to logger\n",
    "print(\"Beginning Data Retrieval     \")\n",
    "print(\"-----------------------------\")\n",
    "\n",
    "# Create counters\n",
    "record_count = 1\n",
    "set_count = 1\n",
    "\n",
    "# Loop through all the cities in our list to fetch weather data\n",
    "for i, city in enumerate(cities):\n",
    "        \n",
    "    # Group cities in sets of 50 for logging purposes\n",
    "    if (i % 50 == 0 and i >= 50):\n",
    "        set_count += 1\n",
    "        record_count = 0\n",
    "\n",
    "    # Create endpoint URL with each city\n",
    "    city_url = url + \"&appid=\" + weather_api_key + \"&q=\" + city\n",
    "    \n",
    "    # Log the url, record, and set numbers\n",
    "    print(\"Processing Record %s of Set %s | %s\" % (record_count, set_count, city))\n",
    "\n",
    "    # Add 1 to the record count\n",
    "    record_count += 1\n",
    "\n",
    "    # Run an API request for each of the cities\n",
    "    try:\n",
    "        # Parse the JSON and retrieve data\n",
    "        city_weather = requests.get(city_url).json()\n",
    "\n",
    "        # Parse out latitude, longitude, max temp, humidity, cloudiness, wind speed, country, and date\n",
    "        city_name = city_weather[\"name\"]\n",
    "        city_lat = city_weather['coord']['lat']\n",
    "        city_lng = city_weather['coord']['lon']\n",
    "        city_max_temp = city_weather['main']['temp_max']\n",
    "        city_humidity = city_weather['main']['humidity']\n",
    "        city_clouds = city_weather['clouds']['all']\n",
    "        city_wind = city_weather['wind']['speed']\n",
    "        city_country = city_weather['sys']['country']\n",
    "        city_date = city_weather['dt']\n",
    "\n",
    "        # Append the City information into city_data list\n",
    "        city_data.append({\"City\": city, \n",
    "                          \"Lat\": city_lat, \n",
    "                          \"Lng\": city_lng, \n",
    "                          \"Max Temp\": city_max_temp,\n",
    "                          \"Humidity\": city_humidity,\n",
    "                          \"Cloudiness\": city_clouds,\n",
    "                          \"Wind Speed\": city_wind,\n",
    "                          \"Country\": city_country,\n",
    "                          \"Date\": city_date})\n",
    "\n",
    "    # If an error is experienced, skip the city\n",
    "    except Exception:\n",
    "        print(\"City not found. Skipping...\")\n",
    "        pass\n",
    "              \n",
    "# Indicate that Data Loading is complete \n",
    "print(\"-----------------------------\")\n",
    "print(\"Data Retrieval Complete      \")\n",
    "print(\"-----------------------------\")"
   ]
  },
  {
   "cell_type": "code",
   "execution_count": 6,
   "metadata": {},
   "outputs": [
    {
     "data": {
      "text/plain": [
       "City          575\n",
       "Lat           575\n",
       "Lng           575\n",
       "Max Temp      575\n",
       "Humidity      575\n",
       "Cloudiness    575\n",
       "Wind Speed    575\n",
       "Country       575\n",
       "Date          575\n",
       "dtype: int64"
      ]
     },
     "execution_count": 6,
     "metadata": {},
     "output_type": "execute_result"
    }
   ],
   "source": [
    "# Convert the cities weather data into a Pandas DataFrame\n",
    "city_data_df = pd.DataFrame(city_data)\n",
    "\n",
    "# Show Record Count\n",
    "city_data_df.count()"
   ]
  },
  {
   "cell_type": "code",
   "execution_count": 10,
   "metadata": {},
   "outputs": [
    {
     "data": {
      "text/html": [
       "<div>\n",
       "<style scoped>\n",
       "    .dataframe tbody tr th:only-of-type {\n",
       "        vertical-align: middle;\n",
       "    }\n",
       "\n",
       "    .dataframe tbody tr th {\n",
       "        vertical-align: top;\n",
       "    }\n",
       "\n",
       "    .dataframe thead th {\n",
       "        text-align: right;\n",
       "    }\n",
       "</style>\n",
       "<table border=\"1\" class=\"dataframe\">\n",
       "  <thead>\n",
       "    <tr style=\"text-align: right;\">\n",
       "      <th></th>\n",
       "      <th>City</th>\n",
       "      <th>Lat</th>\n",
       "      <th>Lng</th>\n",
       "      <th>Max Temp</th>\n",
       "      <th>Humidity</th>\n",
       "      <th>Cloudiness</th>\n",
       "      <th>Wind Speed</th>\n",
       "      <th>Country</th>\n",
       "      <th>Date</th>\n",
       "    </tr>\n",
       "  </thead>\n",
       "  <tbody>\n",
       "    <tr>\n",
       "      <th>0</th>\n",
       "      <td>port alfred</td>\n",
       "      <td>-33.5906</td>\n",
       "      <td>26.8910</td>\n",
       "      <td>16.77</td>\n",
       "      <td>89</td>\n",
       "      <td>25</td>\n",
       "      <td>0.45</td>\n",
       "      <td>ZA</td>\n",
       "      <td>1677359699</td>\n",
       "    </tr>\n",
       "    <tr>\n",
       "      <th>1</th>\n",
       "      <td>khash</td>\n",
       "      <td>28.2211</td>\n",
       "      <td>61.2158</td>\n",
       "      <td>14.75</td>\n",
       "      <td>33</td>\n",
       "      <td>100</td>\n",
       "      <td>0.22</td>\n",
       "      <td>IR</td>\n",
       "      <td>1677359702</td>\n",
       "    </tr>\n",
       "    <tr>\n",
       "      <th>2</th>\n",
       "      <td>tuktoyaktuk</td>\n",
       "      <td>69.4541</td>\n",
       "      <td>-133.0374</td>\n",
       "      <td>-10.71</td>\n",
       "      <td>94</td>\n",
       "      <td>100</td>\n",
       "      <td>5.65</td>\n",
       "      <td>CA</td>\n",
       "      <td>1677359704</td>\n",
       "    </tr>\n",
       "    <tr>\n",
       "      <th>3</th>\n",
       "      <td>honningsvag</td>\n",
       "      <td>70.9821</td>\n",
       "      <td>25.9704</td>\n",
       "      <td>-2.14</td>\n",
       "      <td>74</td>\n",
       "      <td>100</td>\n",
       "      <td>6.69</td>\n",
       "      <td>NO</td>\n",
       "      <td>1677359705</td>\n",
       "    </tr>\n",
       "    <tr>\n",
       "      <th>4</th>\n",
       "      <td>el alto</td>\n",
       "      <td>-4.2714</td>\n",
       "      <td>-81.2147</td>\n",
       "      <td>25.81</td>\n",
       "      <td>78</td>\n",
       "      <td>100</td>\n",
       "      <td>4.47</td>\n",
       "      <td>PE</td>\n",
       "      <td>1677359707</td>\n",
       "    </tr>\n",
       "  </tbody>\n",
       "</table>\n",
       "</div>"
      ],
      "text/plain": [
       "          City      Lat       Lng  Max Temp  Humidity  Cloudiness  Wind Speed  \\\n",
       "0  port alfred -33.5906   26.8910     16.77        89          25        0.45   \n",
       "1        khash  28.2211   61.2158     14.75        33         100        0.22   \n",
       "2  tuktoyaktuk  69.4541 -133.0374    -10.71        94         100        5.65   \n",
       "3  honningsvag  70.9821   25.9704     -2.14        74         100        6.69   \n",
       "4      el alto  -4.2714  -81.2147     25.81        78         100        4.47   \n",
       "\n",
       "  Country        Date  \n",
       "0      ZA  1677359699  \n",
       "1      IR  1677359702  \n",
       "2      CA  1677359704  \n",
       "3      NO  1677359705  \n",
       "4      PE  1677359707  "
      ]
     },
     "execution_count": 10,
     "metadata": {},
     "output_type": "execute_result"
    }
   ],
   "source": [
    "# Display sample data\n",
    "city_data_df.head()"
   ]
  },
  {
   "cell_type": "code",
   "execution_count": 12,
   "metadata": {},
   "outputs": [],
   "source": [
    "# Export the City_Data into a csv\n",
    "city_data_df.to_csv(\"output_data/cities.csv\", index_label=\"City_ID\")"
   ]
  },
  {
   "cell_type": "code",
   "execution_count": 13,
   "metadata": {},
   "outputs": [
    {
     "data": {
      "text/html": [
       "<div>\n",
       "<style scoped>\n",
       "    .dataframe tbody tr th:only-of-type {\n",
       "        vertical-align: middle;\n",
       "    }\n",
       "\n",
       "    .dataframe tbody tr th {\n",
       "        vertical-align: top;\n",
       "    }\n",
       "\n",
       "    .dataframe thead th {\n",
       "        text-align: right;\n",
       "    }\n",
       "</style>\n",
       "<table border=\"1\" class=\"dataframe\">\n",
       "  <thead>\n",
       "    <tr style=\"text-align: right;\">\n",
       "      <th></th>\n",
       "      <th>City</th>\n",
       "      <th>Lat</th>\n",
       "      <th>Lng</th>\n",
       "      <th>Max Temp</th>\n",
       "      <th>Humidity</th>\n",
       "      <th>Cloudiness</th>\n",
       "      <th>Wind Speed</th>\n",
       "      <th>Country</th>\n",
       "      <th>Date</th>\n",
       "    </tr>\n",
       "    <tr>\n",
       "      <th>City_ID</th>\n",
       "      <th></th>\n",
       "      <th></th>\n",
       "      <th></th>\n",
       "      <th></th>\n",
       "      <th></th>\n",
       "      <th></th>\n",
       "      <th></th>\n",
       "      <th></th>\n",
       "      <th></th>\n",
       "    </tr>\n",
       "  </thead>\n",
       "  <tbody>\n",
       "    <tr>\n",
       "      <th>0</th>\n",
       "      <td>port alfred</td>\n",
       "      <td>-33.5906</td>\n",
       "      <td>26.8910</td>\n",
       "      <td>16.77</td>\n",
       "      <td>89</td>\n",
       "      <td>25</td>\n",
       "      <td>0.45</td>\n",
       "      <td>ZA</td>\n",
       "      <td>1677359699</td>\n",
       "    </tr>\n",
       "    <tr>\n",
       "      <th>1</th>\n",
       "      <td>khash</td>\n",
       "      <td>28.2211</td>\n",
       "      <td>61.2158</td>\n",
       "      <td>14.75</td>\n",
       "      <td>33</td>\n",
       "      <td>100</td>\n",
       "      <td>0.22</td>\n",
       "      <td>IR</td>\n",
       "      <td>1677359702</td>\n",
       "    </tr>\n",
       "    <tr>\n",
       "      <th>2</th>\n",
       "      <td>tuktoyaktuk</td>\n",
       "      <td>69.4541</td>\n",
       "      <td>-133.0374</td>\n",
       "      <td>-10.71</td>\n",
       "      <td>94</td>\n",
       "      <td>100</td>\n",
       "      <td>5.65</td>\n",
       "      <td>CA</td>\n",
       "      <td>1677359704</td>\n",
       "    </tr>\n",
       "    <tr>\n",
       "      <th>3</th>\n",
       "      <td>honningsvag</td>\n",
       "      <td>70.9821</td>\n",
       "      <td>25.9704</td>\n",
       "      <td>-2.14</td>\n",
       "      <td>74</td>\n",
       "      <td>100</td>\n",
       "      <td>6.69</td>\n",
       "      <td>NO</td>\n",
       "      <td>1677359705</td>\n",
       "    </tr>\n",
       "    <tr>\n",
       "      <th>4</th>\n",
       "      <td>el alto</td>\n",
       "      <td>-4.2714</td>\n",
       "      <td>-81.2147</td>\n",
       "      <td>25.81</td>\n",
       "      <td>78</td>\n",
       "      <td>100</td>\n",
       "      <td>4.47</td>\n",
       "      <td>PE</td>\n",
       "      <td>1677359707</td>\n",
       "    </tr>\n",
       "  </tbody>\n",
       "</table>\n",
       "</div>"
      ],
      "text/plain": [
       "                City      Lat       Lng  Max Temp  Humidity  Cloudiness  \\\n",
       "City_ID                                                                   \n",
       "0        port alfred -33.5906   26.8910     16.77        89          25   \n",
       "1              khash  28.2211   61.2158     14.75        33         100   \n",
       "2        tuktoyaktuk  69.4541 -133.0374    -10.71        94         100   \n",
       "3        honningsvag  70.9821   25.9704     -2.14        74         100   \n",
       "4            el alto  -4.2714  -81.2147     25.81        78         100   \n",
       "\n",
       "         Wind Speed Country        Date  \n",
       "City_ID                                  \n",
       "0              0.45      ZA  1677359699  \n",
       "1              0.22      IR  1677359702  \n",
       "2              5.65      CA  1677359704  \n",
       "3              6.69      NO  1677359705  \n",
       "4              4.47      PE  1677359707  "
      ]
     },
     "execution_count": 13,
     "metadata": {},
     "output_type": "execute_result"
    }
   ],
   "source": [
    "# Read saved data\n",
    "city_data_df = pd.read_csv(\"output_data/cities.csv\", index_col=\"City_ID\")\n",
    "\n",
    "# Display sample data\n",
    "city_data_df.head()"
   ]
  },
  {
   "cell_type": "markdown",
   "metadata": {},
   "source": [
    "### Create the Scatter Plots Requested\n",
    "\n",
    "#### Latitude Vs. Temperature"
   ]
  },
  {
   "cell_type": "code",
   "execution_count": 14,
   "metadata": {
    "tags": []
   },
   "outputs": [
    {
     "data": {
      "image/png": "[encoded data removed]",
      "text/plain": [
       "<Figure size 432x288 with 1 Axes>"
      ]
     },
     "metadata": {
      "needs_background": "light"
     },
     "output_type": "display_data"
    }
   ],
   "source": [
    "# Build scatter plot for latitude vs. temperature\n",
    "plt.scatter(city_data_df[\"Max Temp\"], city_data_df[\"Lat\"])\n",
    "\n",
    "# Incorporate the other graph properties\n",
    "plt.xlabel(\"Latitude\")\n",
    "plt.ylabel(\"Max Temperature (C)\")\n",
    "plt.title(\"City Max Latitude vs. Temperature\")\n",
    "\n",
    "# Save the figure\n",
    "plt.savefig(\"output_data/Fig1.png\")\n",
    "\n",
    "# Show plot\n",
    "plt.show()"
   ]
  },
  {
   "cell_type": "markdown",
   "metadata": {},
   "source": [
    "#### Latitude Vs. Humidity"
   ]
  },
  {
   "cell_type": "code",
   "execution_count": 16,
   "metadata": {},
   "outputs": [
    {
     "data": {
      "image/png": "[encoded data removed]",
      "text/plain": [
       "<Figure size 432x288 with 1 Axes>"
      ]
     },
     "metadata": {
      "needs_background": "light"
     },
     "output_type": "display_data"
    }
   ],
   "source": [
    "# Build the scatter plots for latitude vs. humidity\n",
    "plt.scatter(city_data_df[\"Humidity\"], city_data_df[\"Lat\"])\n",
    "\n",
    "# Incorporate the other graph properties\n",
    "plt.xlabel(\"Latitude\")\n",
    "plt.ylabel(\"Humidity\")\n",
    "plt.title(\"City Latitude vs. Humidity\")\n",
    "\n",
    "# Save the figure\n",
    "plt.savefig(\"output_data/Fig2.png\")\n",
    "\n",
    "# Show plot\n",
    "plt.show()"
   ]
  },
  {
   "cell_type": "markdown",
   "metadata": {},
   "source": [
    "#### Latitude Vs. Cloudiness"
   ]
  },
  {
   "cell_type": "code",
   "execution_count": 17,
   "metadata": {},
   "outputs": [
    {
     "data": {
      "image/png": "[encoded data removed]",
      "text/plain": [
       "<Figure size 432x288 with 1 Axes>"
      ]
     },
     "metadata": {
      "needs_background": "light"
     },
     "output_type": "display_data"
    }
   ],
   "source": [
    "# Build the scatter plots for latitude vs. cloudiness\n",
    "plt.scatter(city_data_df[\"Cloudiness\"], city_data_df[\"Lat\"])\n",
    "\n",
    "# Incorporate the other graph properties\n",
    "plt.xlabel(\"Latitude\")\n",
    "plt.ylabel(\"Cloudiness\")\n",
    "plt.title(\"City Latitude vs. Cloudiness\")\n",
    "\n",
    "# Save the figure\n",
    "plt.savefig(\"output_data/Fig3.png\")\n",
    "\n",
    "# Show plot\n",
    "plt.show()"
   ]
  },
  {
   "cell_type": "markdown",
   "metadata": {},
   "source": [
    "#### Latitude vs. Wind Speed Plot"
   ]
  },
  {
   "cell_type": "code",
   "execution_count": 18,
   "metadata": {},
   "outputs": [
    {
     "data": {
      "image/png": "[encoded data removed]",
      "text/plain": [
       "<Figure size 432x288 with 1 Axes>"
      ]
     },
     "metadata": {
      "needs_background": "light"
     },
     "output_type": "display_data"
    }
   ],
   "source": [
    "\n",
    "# Build the scatter plots for latitude vs. wind speed\n",
    "plt.scatter(city_data_df[\"Wind Speed\"], city_data_df[\"Lat\"])\n",
    "\n",
    "# Incorporate the other graph properties\n",
    "plt.xlabel(\"Latitude\")\n",
    "plt.ylabel(\"Wind Speed\")\n",
    "plt.title(\"City Latitude vs. Wind Speed\")\n",
    "\n",
    "# Save the figure\n",
    "plt.savefig(\"output_data/Fig4.png\")\n",
    "\n",
    "# Show plot\n",
    "plt.show()"
   ]
  },
  {
   "cell_type": "markdown",
   "metadata": {},
   "source": [
    "---\n",
    "\n",
    "## Requirement 2: Compute Linear Regression for Each Relationship\n"
   ]
  },
  {
   "cell_type": "code",
   "execution_count": 21,
   "metadata": {},
   "outputs": [],
   "source": [
    "# Define a function to create Linear Regression plots\n",
    "def linear_regress(x, y, eqn_coord):\n",
    "    r = st.pearsonr(x, y)\n",
    "    print(f\"The r-value is: {r[0]}\")\n",
    "    (slope, intercept, rvalue, pvalue, stderr) = linregress(x, y)\n",
    "    regress_values = x * slope + intercept\n",
    "    line_eqn = f\"y ={slope: .2f}x +{intercept: .2f}\"\n",
    "    plt.plot(x, regress_values, \"r-\")\n",
    "    plt.annotate(line_eqn, eqn_coord, fontsize=10, color=\"blue\")\n",
    "    plt.scatter(x, y)\n",
    "    plt.xlabel(f\"{x.name}\")\n",
    "    plt.ylabel(f\"{y.name}\")"
   ]
  },
  {
   "cell_type": "code",
   "execution_count": 22,
   "metadata": {},
   "outputs": [
    {
     "data": {
      "text/html": [
       "<div>\n",
       "<style scoped>\n",
       "    .dataframe tbody tr th:only-of-type {\n",
       "        vertical-align: middle;\n",
       "    }\n",
       "\n",
       "    .dataframe tbody tr th {\n",
       "        vertical-align: top;\n",
       "    }\n",
       "\n",
       "    .dataframe thead th {\n",
       "        text-align: right;\n",
       "    }\n",
       "</style>\n",
       "<table border=\"1\" class=\"dataframe\">\n",
       "  <thead>\n",
       "    <tr style=\"text-align: right;\">\n",
       "      <th></th>\n",
       "      <th>City</th>\n",
       "      <th>Lat</th>\n",
       "      <th>Lng</th>\n",
       "      <th>Max Temp</th>\n",
       "      <th>Humidity</th>\n",
       "      <th>Cloudiness</th>\n",
       "      <th>Wind Speed</th>\n",
       "      <th>Country</th>\n",
       "      <th>Date</th>\n",
       "    </tr>\n",
       "    <tr>\n",
       "      <th>City_ID</th>\n",
       "      <th></th>\n",
       "      <th></th>\n",
       "      <th></th>\n",
       "      <th></th>\n",
       "      <th></th>\n",
       "      <th></th>\n",
       "      <th></th>\n",
       "      <th></th>\n",
       "      <th></th>\n",
       "    </tr>\n",
       "  </thead>\n",
       "  <tbody>\n",
       "    <tr>\n",
       "      <th>1</th>\n",
       "      <td>khash</td>\n",
       "      <td>28.2211</td>\n",
       "      <td>61.2158</td>\n",
       "      <td>14.75</td>\n",
       "      <td>33</td>\n",
       "      <td>100</td>\n",
       "      <td>0.22</td>\n",
       "      <td>IR</td>\n",
       "      <td>1677359702</td>\n",
       "    </tr>\n",
       "    <tr>\n",
       "      <th>2</th>\n",
       "      <td>tuktoyaktuk</td>\n",
       "      <td>69.4541</td>\n",
       "      <td>-133.0374</td>\n",
       "      <td>-10.71</td>\n",
       "      <td>94</td>\n",
       "      <td>100</td>\n",
       "      <td>5.65</td>\n",
       "      <td>CA</td>\n",
       "      <td>1677359704</td>\n",
       "    </tr>\n",
       "    <tr>\n",
       "      <th>3</th>\n",
       "      <td>honningsvag</td>\n",
       "      <td>70.9821</td>\n",
       "      <td>25.9704</td>\n",
       "      <td>-2.14</td>\n",
       "      <td>74</td>\n",
       "      <td>100</td>\n",
       "      <td>6.69</td>\n",
       "      <td>NO</td>\n",
       "      <td>1677359705</td>\n",
       "    </tr>\n",
       "    <tr>\n",
       "      <th>6</th>\n",
       "      <td>asfi</td>\n",
       "      <td>32.2994</td>\n",
       "      <td>-9.2372</td>\n",
       "      <td>14.45</td>\n",
       "      <td>71</td>\n",
       "      <td>99</td>\n",
       "      <td>4.98</td>\n",
       "      <td>MA</td>\n",
       "      <td>1677359710</td>\n",
       "    </tr>\n",
       "    <tr>\n",
       "      <th>7</th>\n",
       "      <td>acapulco</td>\n",
       "      <td>16.8634</td>\n",
       "      <td>-99.8901</td>\n",
       "      <td>30.90</td>\n",
       "      <td>55</td>\n",
       "      <td>0</td>\n",
       "      <td>6.17</td>\n",
       "      <td>MX</td>\n",
       "      <td>1677359689</td>\n",
       "    </tr>\n",
       "  </tbody>\n",
       "</table>\n",
       "</div>"
      ],
      "text/plain": [
       "                City      Lat       Lng  Max Temp  Humidity  Cloudiness  \\\n",
       "City_ID                                                                   \n",
       "1              khash  28.2211   61.2158     14.75        33         100   \n",
       "2        tuktoyaktuk  69.4541 -133.0374    -10.71        94         100   \n",
       "3        honningsvag  70.9821   25.9704     -2.14        74         100   \n",
       "6               asfi  32.2994   -9.2372     14.45        71          99   \n",
       "7           acapulco  16.8634  -99.8901     30.90        55           0   \n",
       "\n",
       "         Wind Speed Country        Date  \n",
       "City_ID                                  \n",
       "1              0.22      IR  1677359702  \n",
       "2              5.65      CA  1677359704  \n",
       "3              6.69      NO  1677359705  \n",
       "6              4.98      MA  1677359710  \n",
       "7              6.17      MX  1677359689  "
      ]
     },
     "execution_count": 22,
     "metadata": {},
     "output_type": "execute_result"
    }
   ],
   "source": [
    "# Create a DataFrame with the Northern Hemisphere data (Latitude >= 0)\n",
    "northern_hemi_df = city_data_df.loc[city_data_df[\"Lat\"] >= 0]\n",
    "\n",
    "# Display sample data\n",
    "northern_hemi_df.head()"
   ]
  },
  {
   "cell_type": "code",
   "execution_count": 23,
   "metadata": {},
   "outputs": [
    {
     "data": {
      "text/html": [
       "<div>\n",
       "<style scoped>\n",
       "    .dataframe tbody tr th:only-of-type {\n",
       "        vertical-align: middle;\n",
       "    }\n",
       "\n",
       "    .dataframe tbody tr th {\n",
       "        vertical-align: top;\n",
       "    }\n",
       "\n",
       "    .dataframe thead th {\n",
       "        text-align: right;\n",
       "    }\n",
       "</style>\n",
       "<table border=\"1\" class=\"dataframe\">\n",
       "  <thead>\n",
       "    <tr style=\"text-align: right;\">\n",
       "      <th></th>\n",
       "      <th>City</th>\n",
       "      <th>Lat</th>\n",
       "      <th>Lng</th>\n",
       "      <th>Max Temp</th>\n",
       "      <th>Humidity</th>\n",
       "      <th>Cloudiness</th>\n",
       "      <th>Wind Speed</th>\n",
       "      <th>Country</th>\n",
       "      <th>Date</th>\n",
       "    </tr>\n",
       "    <tr>\n",
       "      <th>City_ID</th>\n",
       "      <th></th>\n",
       "      <th></th>\n",
       "      <th></th>\n",
       "      <th></th>\n",
       "      <th></th>\n",
       "      <th></th>\n",
       "      <th></th>\n",
       "      <th></th>\n",
       "      <th></th>\n",
       "    </tr>\n",
       "  </thead>\n",
       "  <tbody>\n",
       "    <tr>\n",
       "      <th>0</th>\n",
       "      <td>port alfred</td>\n",
       "      <td>-33.5906</td>\n",
       "      <td>26.8910</td>\n",
       "      <td>16.77</td>\n",
       "      <td>89</td>\n",
       "      <td>25</td>\n",
       "      <td>0.45</td>\n",
       "      <td>ZA</td>\n",
       "      <td>1677359699</td>\n",
       "    </tr>\n",
       "    <tr>\n",
       "      <th>4</th>\n",
       "      <td>el alto</td>\n",
       "      <td>-4.2714</td>\n",
       "      <td>-81.2147</td>\n",
       "      <td>25.81</td>\n",
       "      <td>78</td>\n",
       "      <td>100</td>\n",
       "      <td>4.47</td>\n",
       "      <td>PE</td>\n",
       "      <td>1677359707</td>\n",
       "    </tr>\n",
       "    <tr>\n",
       "      <th>5</th>\n",
       "      <td>mar del plata</td>\n",
       "      <td>-38.0023</td>\n",
       "      <td>-57.5575</td>\n",
       "      <td>29.01</td>\n",
       "      <td>48</td>\n",
       "      <td>0</td>\n",
       "      <td>4.63</td>\n",
       "      <td>AR</td>\n",
       "      <td>1677359708</td>\n",
       "    </tr>\n",
       "    <tr>\n",
       "      <th>8</th>\n",
       "      <td>hermanus</td>\n",
       "      <td>-34.4187</td>\n",
       "      <td>19.2345</td>\n",
       "      <td>18.22</td>\n",
       "      <td>67</td>\n",
       "      <td>1</td>\n",
       "      <td>4.84</td>\n",
       "      <td>ZA</td>\n",
       "      <td>1677359715</td>\n",
       "    </tr>\n",
       "    <tr>\n",
       "      <th>11</th>\n",
       "      <td>mahebourg</td>\n",
       "      <td>-20.4081</td>\n",
       "      <td>57.7000</td>\n",
       "      <td>25.16</td>\n",
       "      <td>83</td>\n",
       "      <td>40</td>\n",
       "      <td>1.54</td>\n",
       "      <td>MU</td>\n",
       "      <td>1677359720</td>\n",
       "    </tr>\n",
       "  </tbody>\n",
       "</table>\n",
       "</div>"
      ],
      "text/plain": [
       "                  City      Lat      Lng  Max Temp  Humidity  Cloudiness  \\\n",
       "City_ID                                                                    \n",
       "0          port alfred -33.5906  26.8910     16.77        89          25   \n",
       "4              el alto  -4.2714 -81.2147     25.81        78         100   \n",
       "5        mar del plata -38.0023 -57.5575     29.01        48           0   \n",
       "8             hermanus -34.4187  19.2345     18.22        67           1   \n",
       "11           mahebourg -20.4081  57.7000     25.16        83          40   \n",
       "\n",
       "         Wind Speed Country        Date  \n",
       "City_ID                                  \n",
       "0              0.45      ZA  1677359699  \n",
       "4              4.47      PE  1677359707  \n",
       "5              4.63      AR  1677359708  \n",
       "8              4.84      ZA  1677359715  \n",
       "11             1.54      MU  1677359720  "
      ]
     },
     "execution_count": 23,
     "metadata": {},
     "output_type": "execute_result"
    }
   ],
   "source": [
    "# Create a DataFrame with the Southern Hemisphere data (Latitude < 0)\n",
    "southern_hemi_df = city_data_df.loc[city_data_df[\"Lat\"] < 0]\n",
    "\n",
    "# Display sample data\n",
    "southern_hemi_df.head()"
   ]
  },
  {
   "cell_type": "markdown",
   "metadata": {},
   "source": [
    "###  Temperature vs. Latitude Linear Regression Plot"
   ]
  },
  {
   "cell_type": "code",
   "execution_count": 26,
   "metadata": {},
   "outputs": [
    {
     "name": "stdout",
     "output_type": "stream",
     "text": [
      "The r-value is: -0.8642859407356035\n"
     ]
    },
    {
     "data": {
      "image/png": "[encoded data removed]",
      "text/plain": [
       "<Figure size 432x288 with 1 Axes>"
      ]
     },
     "metadata": {
      "needs_background": "light"
     },
     "output_type": "display_data"
    }
   ],
   "source": [
    "# Linear regression on Northern Hemisphere\n",
    "linear_regress(northern_hemi_df[\"Lat\"].rename(\"Latitude\"), northern_hemi_df[\"Max Temp\"], (10, -30))"
   ]
  },
  {
   "cell_type": "code",
   "execution_count": 27,
   "metadata": {},
   "outputs": [
    {
     "name": "stdout",
     "output_type": "stream",
     "text": [
      "The r-value is: 0.5384498951939816\n"
     ]
    },
    {
     "data": {
      "image/png": "[encoded data removed]",
      "text/plain": [
       "<Figure size 432x288 with 1 Axes>"
      ]
     },
     "metadata": {
      "needs_background": "light"
     },
     "output_type": "display_data"
    }
   ],
   "source": [
    "# Linear regression on Southern Hemisphere\n",
    "linear_regress(southern_hemi_df[\"Lat\"].rename(\"Latitude\"), southern_hemi_df[\"Max Temp\"], (-30, 8))"
   ]
  },
  {
   "cell_type": "markdown",
   "metadata": {},
   "source": [
    "**Discussion about the linear relationship:** There is a fairly strong negative correlation between temperature and latitude with a correlation coefficient of -0.8088479825279142 on Northern Hemisphere.\n",
    "There is a relatively strong positive correlation between temperature and latitude with a correlation coefficient of 0.4395572110498053 on Southern Hemisphere."
   ]
  },
  {
   "cell_type": "markdown",
   "metadata": {},
   "source": [
    "### Humidity vs. Latitude Linear Regression Plot"
   ]
  },
  {
   "cell_type": "code",
   "execution_count": 28,
   "metadata": {},
   "outputs": [
    {
     "name": "stdout",
     "output_type": "stream",
     "text": [
      "The r-value is: 0.5033773990209861\n"
     ]
    },
    {
     "data": {
      "image/png": "[encoded data removed]",
      "text/plain": [
       "<Figure size 432x288 with 1 Axes>"
      ]
     },
     "metadata": {
      "needs_background": "light"
     },
     "output_type": "display_data"
    }
   ],
   "source": [
    "# Northern Hemisphere\n",
    "linear_regress(northern_hemi_df[\"Lat\"].rename(\"Latitude\"), northern_hemi_df[\"Humidity\"], (50, 40))"
   ]
  },
  {
   "cell_type": "code",
   "execution_count": 29,
   "metadata": {},
   "outputs": [
    {
     "name": "stdout",
     "output_type": "stream",
     "text": [
      "The r-value is: 0.2790699036735666\n"
     ]
    },
    {
     "data": {
      "image/png": "[encoded data removed]",
      "text/plain": [
       "<Figure size 432x288 with 1 Axes>"
      ]
     },
     "metadata": {
      "needs_background": "light"
     },
     "output_type": "display_data"
    }
   ],
   "source": [
    "# Southern Hemisphere\n",
    "linear_regress(southern_hemi_df[\"Lat\"].rename(\"Latitude\"), southern_hemi_df[\"Humidity\"], (-20, 50))"
   ]
  },
  {
   "cell_type": "markdown",
   "metadata": {},
   "source": [
    "**Discussion about the linear relationship:** There is a relatively strong positive correlation between humidity and latitude with a correlation coefficient of 0.45185249370432223 on Northern Hemisphere.\n",
    "There is a relatively strong positive correlation correlation between humidity and latitude with a correlation coefficient of 0.5439636787499419 on Southern Hemisphere."
   ]
  },
  {
   "cell_type": "markdown",
   "metadata": {},
   "source": [
    "### Cloudiness vs. Latitude Linear Regression Plot"
   ]
  },
  {
   "cell_type": "code",
   "execution_count": 30,
   "metadata": {},
   "outputs": [
    {
     "name": "stdout",
     "output_type": "stream",
     "text": [
      "The r-value is: 0.2621111171949961\n"
     ]
    },
    {
     "data": {
      "image/png": "[encoded data removed]",
      "text/plain": [
       "<Figure size 432x288 with 1 Axes>"
      ]
     },
     "metadata": {
      "needs_background": "light"
     },
     "output_type": "display_data"
    }
   ],
   "source": [
    "# Northern Hemisphere\n",
    "linear_regress(northern_hemi_df[\"Lat\"].rename(\"Latitude\"), northern_hemi_df[\"Cloudiness\"], (42, 50))\n"
   ]
  },
  {
   "cell_type": "code",
   "execution_count": 31,
   "metadata": {},
   "outputs": [
    {
     "name": "stdout",
     "output_type": "stream",
     "text": [
      "The r-value is: 0.4176123767836857\n"
     ]
    },
    {
     "data": {
      "image/png": "[encoded data removed]",
      "text/plain": [
       "<Figure size 432x288 with 1 Axes>"
      ]
     },
     "metadata": {
      "needs_background": "light"
     },
     "output_type": "display_data"
    }
   ],
   "source": [
    "# Southern Hemisphere\n",
    "linear_regress(southern_hemi_df[\"Lat\"].rename(\"Latitude\"), southern_hemi_df[\"Cloudiness\"], (-50, 50))"
   ]
  },
  {
   "cell_type": "markdown",
   "metadata": {},
   "source": [
    "**Discussion about the linear relationship:** There is a weak positive correlation between cloudiness and latitude with a correlation coefficient of 0.30769331493282776 on Northern Hemisphere.\n",
    "There is a relatively strong positive correlation between cloudiness and latitude with a correlation coefficient of 0.4748614054462095 on Southern Hemisphere."
   ]
  },
  {
   "cell_type": "markdown",
   "metadata": {},
   "source": [
    "### Wind Speed vs. Latitude Linear Regression Plot"
   ]
  },
  {
   "cell_type": "code",
   "execution_count": 32,
   "metadata": {},
   "outputs": [
    {
     "name": "stdout",
     "output_type": "stream",
     "text": [
      "The r-value is: -0.07187788401971364\n"
     ]
    },
    {
     "data": {
      "image/png": "[encoded data removed]",
      "text/plain": [
       "<Figure size 432x288 with 1 Axes>"
      ]
     },
     "metadata": {
      "needs_background": "light"
     },
     "output_type": "display_data"
    }
   ],
   "source": [
    "# Northern Hemisphere\n",
    "linear_regress(northern_hemi_df[\"Lat\"].rename(\"Latitude\"), northern_hemi_df[\"Wind Speed\"], (10, 12))"
   ]
  },
  {
   "cell_type": "code",
   "execution_count": 33,
   "metadata": {},
   "outputs": [
    {
     "name": "stdout",
     "output_type": "stream",
     "text": [
      "The r-value is: -0.3315418722555318\n"
     ]
    },
    {
     "data": {
      "image/png": "[encoded data removed]",
      "text/plain": [
       "<Figure size 432x288 with 1 Axes>"
      ]
     },
     "metadata": {
      "needs_background": "light"
     },
     "output_type": "display_data"
    }
   ],
   "source": [
    "# Southern Hemisphere\n",
    "linear_regress(southern_hemi_df[\"Lat\"].rename(\"Latitude\"), southern_hemi_df[\"Wind Speed\"], (-50, 9))\n"
   ]
  },
  {
   "cell_type": "markdown",
   "metadata": {},
   "source": [
    "**Discussion about the linear relationship:** There is a negligible to almost no correlation between wind speed and latitude with a correlation coefficient of 0.21507837130179397 on Northern Hemisphere.\n",
    "There is a weak negative correlation between wind speed and latitude with a correlation coefficient of -0.33748967967974725 on Southern Hemisphere."
   ]
  },
  {
   "cell_type": "code",
   "execution_count": null,
   "metadata": {},
   "outputs": [],
   "source": []
  },
  {
   "cell_type": "code",
   "execution_count": null,
   "metadata": {},
   "outputs": [],
   "source": []
  },
  {
   "cell_type": "code",
   "execution_count": null,
   "metadata": {},
   "outputs": [],
   "source": []
  },
  {
   "cell_type": "code",
   "execution_count": null,
   "metadata": {},
   "outputs": [],
   "source": []
  },
  {
   "cell_type": "code",
   "execution_count": null,
   "metadata": {},
   "outputs": [],
   "source": []
  },
  {
   "cell_type": "code",
   "execution_count": null,
   "metadata": {},
   "outputs": [],
   "source": []
  },
  {
   "cell_type": "code",
   "execution_count": null,
   "metadata": {},
   "outputs": [],
   "source": []
  },
  {
   "cell_type": "code",
   "execution_count": null,
   "metadata": {},
   "outputs": [],
   "source": []
  },
  {
   "cell_type": "code",
   "execution_count": null,
   "metadata": {},
   "outputs": [],
   "source": []
  },
  {
   "cell_type": "code",
   "execution_count": null,
   "metadata": {},
   "outputs": [],
   "source": []
  }
 ],
 "metadata": {
  "anaconda-cloud": {},
  "kernel_info": {
   "name": "python3"
  },
  "kernelspec": {
   "display_name": "Python 3 (ipykernel)",
   "language": "python",
   "name": "python3"
  },
  "language_info": {
   "codemirror_mode": {
    "name": "ipython",
    "version": 3
   },
   "file_extension": ".py",
   "mimetype": "text/x-python",
   "name": "python",
   "nbconvert_exporter": "python",
   "pygments_lexer": "ipython3",
   "version": "3.7.7"
  },
  "latex_envs": {
   "LaTeX_envs_menu_present": true,
   "autoclose": false,
   "autocomplete": true,
   "bibliofile": "biblio.bib",
   "cite_by": "apalike",
   "current_citInitial": 1,
   "eqLabelWithNumbers": true,
   "eqNumInitial": 1,
   "hotkeys": {
    "equation": "Ctrl-E",
    "itemize": "Ctrl-I"
   },
   "labels_anchors": false,
   "latex_user_defs": false,
   "report_style_numbering": false,
   "user_envs_cfg": false
  },
  "nteract": {
   "version": "0.12.3"
  }
 },
 "nbformat": 4,
 "nbformat_minor": 4
}
